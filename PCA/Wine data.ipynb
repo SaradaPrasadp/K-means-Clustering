{
 "cells": [
  {
   "cell_type": "code",
   "execution_count": 1,
   "metadata": {},
   "outputs": [],
   "source": [
    "import pandas as pd\n",
    "import numpy as np\n",
    "import matplotlib.pylab as plt\n",
    "from scipy.cluster.hierarchy import linkage\n",
    "import scipy.cluster.hierarchy as sch \n",
    "from sklearn.cluster import AgglomerativeClustering\n",
    "from sklearn.cluster import\tKMeans\n",
    "from sklearn.decomposition import PCA"
   ]
  },
  {
   "cell_type": "code",
   "execution_count": 2,
   "metadata": {},
   "outputs": [
    {
     "name": "stdout",
     "output_type": "stream",
     "text": [
      "             Type     Alcohol       Malic         Ash  Alcalinity   Magnesium  \\\n",
      "count  178.000000  178.000000  178.000000  178.000000  178.000000  178.000000   \n",
      "mean     1.938202   13.000618    2.336348    2.366517   19.494944   99.741573   \n",
      "std      0.775035    0.811827    1.117146    0.274344    3.339564   14.282484   \n",
      "min      1.000000   11.030000    0.740000    1.360000   10.600000   70.000000   \n",
      "25%      1.000000   12.362500    1.602500    2.210000   17.200000   88.000000   \n",
      "50%      2.000000   13.050000    1.865000    2.360000   19.500000   98.000000   \n",
      "75%      3.000000   13.677500    3.082500    2.557500   21.500000  107.000000   \n",
      "max      3.000000   14.830000    5.800000    3.230000   30.000000  162.000000   \n",
      "\n",
      "          Phenols  Flavanoids  Nonflavanoids  Proanthocyanins       Color  \\\n",
      "count  178.000000  178.000000     178.000000       178.000000  178.000000   \n",
      "mean     2.295112    2.029270       0.361854         1.590899    5.058090   \n",
      "std      0.625851    0.998859       0.124453         0.572359    2.318286   \n",
      "min      0.980000    0.340000       0.130000         0.410000    1.280000   \n",
      "25%      1.742500    1.205000       0.270000         1.250000    3.220000   \n",
      "50%      2.355000    2.135000       0.340000         1.555000    4.690000   \n",
      "75%      2.800000    2.875000       0.437500         1.950000    6.200000   \n",
      "max      3.880000    5.080000       0.660000         3.580000   13.000000   \n",
      "\n",
      "              Hue    Dilution      Proline  \n",
      "count  178.000000  178.000000   178.000000  \n",
      "mean     0.957449    2.611685   746.893258  \n",
      "std      0.228572    0.709990   314.907474  \n",
      "min      0.480000    1.270000   278.000000  \n",
      "25%      0.782500    1.937500   500.500000  \n",
      "50%      0.965000    2.780000   673.500000  \n",
      "75%      1.120000    3.170000   985.000000  \n",
      "max      1.710000    4.000000  1680.000000  \n",
      "<class 'pandas.core.frame.DataFrame'>\n",
      "RangeIndex: 178 entries, 0 to 177\n",
      "Data columns (total 14 columns):\n",
      " #   Column           Non-Null Count  Dtype  \n",
      "---  ------           --------------  -----  \n",
      " 0   Type             178 non-null    int64  \n",
      " 1   Alcohol          178 non-null    float64\n",
      " 2   Malic            178 non-null    float64\n",
      " 3   Ash              178 non-null    float64\n",
      " 4   Alcalinity       178 non-null    float64\n",
      " 5   Magnesium        178 non-null    int64  \n",
      " 6   Phenols          178 non-null    float64\n",
      " 7   Flavanoids       178 non-null    float64\n",
      " 8   Nonflavanoids    178 non-null    float64\n",
      " 9   Proanthocyanins  178 non-null    float64\n",
      " 10  Color            178 non-null    float64\n",
      " 11  Hue              178 non-null    float64\n",
      " 12  Dilution         178 non-null    float64\n",
      " 13  Proline          178 non-null    int64  \n",
      "dtypes: float64(11), int64(3)\n",
      "memory usage: 19.6 KB\n"
     ]
    }
   ],
   "source": [
    "wd = pd.read_csv(\"wine.csv\")\n",
    "\n",
    "print(wd.describe())       #shows the summary\n",
    "\n",
    "wd.info()                 #shows the info and missing values"
   ]
  },
  {
   "cell_type": "code",
   "execution_count": 3,
   "metadata": {},
   "outputs": [
    {
     "data": {
      "text/html": [
       "<div>\n",
       "<style scoped>\n",
       "    .dataframe tbody tr th:only-of-type {\n",
       "        vertical-align: middle;\n",
       "    }\n",
       "\n",
       "    .dataframe tbody tr th {\n",
       "        vertical-align: top;\n",
       "    }\n",
       "\n",
       "    .dataframe thead th {\n",
       "        text-align: right;\n",
       "    }\n",
       "</style>\n",
       "<table border=\"1\" class=\"dataframe\">\n",
       "  <thead>\n",
       "    <tr style=\"text-align: right;\">\n",
       "      <th></th>\n",
       "      <th>Alcohol</th>\n",
       "      <th>Malic</th>\n",
       "      <th>Ash</th>\n",
       "      <th>Alcalinity</th>\n",
       "      <th>Magnesium</th>\n",
       "      <th>Phenols</th>\n",
       "      <th>Flavanoids</th>\n",
       "      <th>Nonflavanoids</th>\n",
       "      <th>Proanthocyanins</th>\n",
       "      <th>Color</th>\n",
       "      <th>Hue</th>\n",
       "      <th>Dilution</th>\n",
       "      <th>Proline</th>\n",
       "    </tr>\n",
       "  </thead>\n",
       "  <tbody>\n",
       "    <tr>\n",
       "      <th>count</th>\n",
       "      <td>178.000000</td>\n",
       "      <td>178.000000</td>\n",
       "      <td>178.000000</td>\n",
       "      <td>178.000000</td>\n",
       "      <td>178.000000</td>\n",
       "      <td>178.000000</td>\n",
       "      <td>178.000000</td>\n",
       "      <td>178.000000</td>\n",
       "      <td>178.000000</td>\n",
       "      <td>178.000000</td>\n",
       "      <td>178.000000</td>\n",
       "      <td>178.000000</td>\n",
       "      <td>178.000000</td>\n",
       "    </tr>\n",
       "    <tr>\n",
       "      <th>mean</th>\n",
       "      <td>-0.481416</td>\n",
       "      <td>-0.684516</td>\n",
       "      <td>-0.461756</td>\n",
       "      <td>-0.541498</td>\n",
       "      <td>-0.676722</td>\n",
       "      <td>-0.546513</td>\n",
       "      <td>-0.643614</td>\n",
       "      <td>-0.562540</td>\n",
       "      <td>-0.627477</td>\n",
       "      <td>-0.677637</td>\n",
       "      <td>-0.611830</td>\n",
       "      <td>-0.508540</td>\n",
       "      <td>-0.665554</td>\n",
       "    </tr>\n",
       "    <tr>\n",
       "      <th>std</th>\n",
       "      <td>0.213639</td>\n",
       "      <td>0.220780</td>\n",
       "      <td>0.146708</td>\n",
       "      <td>0.172142</td>\n",
       "      <td>0.155244</td>\n",
       "      <td>0.215811</td>\n",
       "      <td>0.210730</td>\n",
       "      <td>0.234818</td>\n",
       "      <td>0.180555</td>\n",
       "      <td>0.197806</td>\n",
       "      <td>0.185831</td>\n",
       "      <td>0.260070</td>\n",
       "      <td>0.224613</td>\n",
       "    </tr>\n",
       "    <tr>\n",
       "      <th>min</th>\n",
       "      <td>-1.000000</td>\n",
       "      <td>-1.000000</td>\n",
       "      <td>-1.000000</td>\n",
       "      <td>-1.000000</td>\n",
       "      <td>-1.000000</td>\n",
       "      <td>-1.000000</td>\n",
       "      <td>-1.000000</td>\n",
       "      <td>-1.000000</td>\n",
       "      <td>-1.000000</td>\n",
       "      <td>-1.000000</td>\n",
       "      <td>-1.000000</td>\n",
       "      <td>-1.000000</td>\n",
       "      <td>-1.000000</td>\n",
       "    </tr>\n",
       "    <tr>\n",
       "      <th>25%</th>\n",
       "      <td>-0.649342</td>\n",
       "      <td>-0.829545</td>\n",
       "      <td>-0.545455</td>\n",
       "      <td>-0.659794</td>\n",
       "      <td>-0.804348</td>\n",
       "      <td>-0.737069</td>\n",
       "      <td>-0.817511</td>\n",
       "      <td>-0.735849</td>\n",
       "      <td>-0.735016</td>\n",
       "      <td>-0.834471</td>\n",
       "      <td>-0.754065</td>\n",
       "      <td>-0.755495</td>\n",
       "      <td>-0.841298</td>\n",
       "    </tr>\n",
       "    <tr>\n",
       "      <th>50%</th>\n",
       "      <td>-0.468421</td>\n",
       "      <td>-0.777668</td>\n",
       "      <td>-0.465241</td>\n",
       "      <td>-0.541237</td>\n",
       "      <td>-0.695652</td>\n",
       "      <td>-0.525862</td>\n",
       "      <td>-0.621308</td>\n",
       "      <td>-0.603774</td>\n",
       "      <td>-0.638801</td>\n",
       "      <td>-0.709044</td>\n",
       "      <td>-0.605691</td>\n",
       "      <td>-0.446886</td>\n",
       "      <td>-0.717903</td>\n",
       "    </tr>\n",
       "    <tr>\n",
       "      <th>75%</th>\n",
       "      <td>-0.303289</td>\n",
       "      <td>-0.537055</td>\n",
       "      <td>-0.359626</td>\n",
       "      <td>-0.438144</td>\n",
       "      <td>-0.597826</td>\n",
       "      <td>-0.372414</td>\n",
       "      <td>-0.465190</td>\n",
       "      <td>-0.419811</td>\n",
       "      <td>-0.514196</td>\n",
       "      <td>-0.580205</td>\n",
       "      <td>-0.479675</td>\n",
       "      <td>-0.304029</td>\n",
       "      <td>-0.495720</td>\n",
       "    </tr>\n",
       "    <tr>\n",
       "      <th>max</th>\n",
       "      <td>0.000000</td>\n",
       "      <td>0.000000</td>\n",
       "      <td>0.000000</td>\n",
       "      <td>0.000000</td>\n",
       "      <td>0.000000</td>\n",
       "      <td>0.000000</td>\n",
       "      <td>0.000000</td>\n",
       "      <td>0.000000</td>\n",
       "      <td>0.000000</td>\n",
       "      <td>0.000000</td>\n",
       "      <td>0.000000</td>\n",
       "      <td>0.000000</td>\n",
       "      <td>0.000000</td>\n",
       "    </tr>\n",
       "  </tbody>\n",
       "</table>\n",
       "</div>"
      ],
      "text/plain": [
       "          Alcohol       Malic         Ash  Alcalinity   Magnesium     Phenols  \\\n",
       "count  178.000000  178.000000  178.000000  178.000000  178.000000  178.000000   \n",
       "mean    -0.481416   -0.684516   -0.461756   -0.541498   -0.676722   -0.546513   \n",
       "std      0.213639    0.220780    0.146708    0.172142    0.155244    0.215811   \n",
       "min     -1.000000   -1.000000   -1.000000   -1.000000   -1.000000   -1.000000   \n",
       "25%     -0.649342   -0.829545   -0.545455   -0.659794   -0.804348   -0.737069   \n",
       "50%     -0.468421   -0.777668   -0.465241   -0.541237   -0.695652   -0.525862   \n",
       "75%     -0.303289   -0.537055   -0.359626   -0.438144   -0.597826   -0.372414   \n",
       "max      0.000000    0.000000    0.000000    0.000000    0.000000    0.000000   \n",
       "\n",
       "       Flavanoids  Nonflavanoids  Proanthocyanins       Color         Hue  \\\n",
       "count  178.000000     178.000000       178.000000  178.000000  178.000000   \n",
       "mean    -0.643614      -0.562540        -0.627477   -0.677637   -0.611830   \n",
       "std      0.210730       0.234818         0.180555    0.197806    0.185831   \n",
       "min     -1.000000      -1.000000        -1.000000   -1.000000   -1.000000   \n",
       "25%     -0.817511      -0.735849        -0.735016   -0.834471   -0.754065   \n",
       "50%     -0.621308      -0.603774        -0.638801   -0.709044   -0.605691   \n",
       "75%     -0.465190      -0.419811        -0.514196   -0.580205   -0.479675   \n",
       "max      0.000000       0.000000         0.000000    0.000000    0.000000   \n",
       "\n",
       "         Dilution     Proline  \n",
       "count  178.000000  178.000000  \n",
       "mean    -0.508540   -0.665554  \n",
       "std      0.260070    0.224613  \n",
       "min     -1.000000   -1.000000  \n",
       "25%     -0.755495   -0.841298  \n",
       "50%     -0.446886   -0.717903  \n",
       "75%     -0.304029   -0.495720  \n",
       "max      0.000000    0.000000  "
      ]
     },
     "execution_count": 3,
     "metadata": {},
     "output_type": "execute_result"
    }
   ],
   "source": [
    "#now we'll drop the unnecessary colum\n",
    "wd1 = wd.drop([\"Type\"] , axis =1 )\n",
    "\n",
    "#now we'll normalize the data to a range 0-1.\n",
    "def norm_func(i):\n",
    "    x = (i - i.max())/ (i.max()-i.min())\n",
    "    return(x)\n",
    "norm_wda = norm_func(wd1)\n",
    "norm_wda.describe()"
   ]
  },
  {
   "cell_type": "markdown",
   "metadata": {},
   "source": [
    "                                                   CLUSTER (H_clust , K_means)"
   ]
  },
  {
   "cell_type": "markdown",
   "metadata": {},
   "source": [
    "                                                   \n",
    "z = linkage(norm_wda, method = \"complete\", metric = \"euclidean\")\n",
    "plt.figure(figsize=(30, 12));plt.title('Dendrogram');plt.xlabel('Index');plt.ylabel('Distance')\n",
    "sch.dendrogram(z, \n",
    "    leaf_rotation = 5,  # rotates the x axis labels\n",
    "    leaf_font_size = 10 # font size for the x axis labels\n",
    ")\n",
    "plt.show()"
   ]
  },
  {
   "cell_type": "code",
   "execution_count": 5,
   "metadata": {},
   "outputs": [],
   "source": [
    "wd_comp = AgglomerativeClustering(n_clusters = 3 , linkage = \"complete\" ,affinity = \"euclidean\" ).fit(norm_wda)\n"
   ]
  },
  {
   "cell_type": "code",
   "execution_count": 7,
   "metadata": {},
   "outputs": [],
   "source": [
    "wd_cluster_column = pd.Series(wd_comp.labels_)\n",
    "\n",
    "#now assign this matrix to to data set as a new column.\n",
    "\n",
    "wd1['grouping']=wd_cluster_column\n",
    "\n",
    "#now take the grouping column to the 1st.\n",
    "\n",
    "wd_h = wd1.iloc[ : ,[13,0,1,2,3,4,6,7,8,9,10,11,12] ]\n"
   ]
  },
  {
   "cell_type": "code",
   "execution_count": 8,
   "metadata": {},
   "outputs": [
    {
     "data": {
      "text/plain": [
       "[95.59953778471063,\n",
       " 64.5376670238943,\n",
       " 48.960517136676465,\n",
       " 44.769330540824775,\n",
       " 42.464914471797556,\n",
       " 39.77246431500699,\n",
       " 38.36371859659024,\n",
       " 36.142418675736074,\n",
       " 34.506804552786996]"
      ]
     },
     "execution_count": 8,
     "metadata": {},
     "output_type": "execute_result"
    }
   ],
   "source": [
    "                                                  \n",
    "###### scree plot or elbow curve ############\n",
    "TWSS = []\n",
    "k = list(range(1,10))\n",
    "\n",
    "for i in k:\n",
    "    kmeans = KMeans(n_clusters = i)\n",
    "    kmeans.fit(norm_wda)\n",
    "    TWSS.append(kmeans.inertia_)\n",
    "    \n",
    "TWSS"
   ]
  },
  {
   "cell_type": "code",
   "execution_count": 9,
   "metadata": {},
   "outputs": [
    {
     "data": {
      "text/plain": [
       "Text(0, 0.5, 'total_within_SS')"
      ]
     },
     "execution_count": 9,
     "metadata": {},
     "output_type": "execute_result"
    },
    {
     "data": {
      "image/png": "[encoded data removed]",
      "text/plain": [
       "<Figure size 432x288 with 1 Axes>"
      ]
     },
     "metadata": {
      "needs_background": "light"
     },
     "output_type": "display_data"
    }
   ],
   "source": [
    "# Scree plot \n",
    "plt.plot(k, TWSS, 'ro-');plt.xlabel(\"No_of_Clusters\");plt.ylabel(\"total_within_SS\")"
   ]
  },
  {
   "cell_type": "code",
   "execution_count": 10,
   "metadata": {},
   "outputs": [
    {
     "data": {
      "text/plain": [
       "KMeans(n_clusters=3)"
      ]
     },
     "execution_count": 10,
     "metadata": {},
     "output_type": "execute_result"
    }
   ],
   "source": [
    "\n",
    "# Selecting 5 clusters from the above scree plot which is the optimum number of clusters \n",
    "model = KMeans(n_clusters = 3)\n",
    "model.fit(norm_wda)\n"
   ]
  },
  {
   "cell_type": "code",
   "execution_count": 11,
   "metadata": {},
   "outputs": [],
   "source": [
    "mb = pd.Series(model.labels_)  # converting numpy array into pandas series object  \n",
    "wd1['category'] = mb # creating a  new column and assigning it to new column \n",
    "wd_k = wd1.iloc[:,[14,0,1,2,3,4,5,6,7,8,9,10,11,12]]\n"
   ]
  },
  {
   "cell_type": "markdown",
   "metadata": {},
   "source": [
    "                                                          PCA"
   ]
  },
  {
   "cell_type": "code",
   "execution_count": 12,
   "metadata": {},
   "outputs": [
    {
     "name": "stdout",
     "output_type": "stream",
     "text": [
      "             Type     Alcohol       Malic         Ash  Alcalinity   Magnesium  \\\n",
      "count  178.000000  178.000000  178.000000  178.000000  178.000000  178.000000   \n",
      "mean    -0.530899   -0.481416   -0.684516   -0.461756   -0.541498   -0.676722   \n",
      "std      0.387517    0.213639    0.220780    0.146708    0.172142    0.155244   \n",
      "min     -1.000000   -1.000000   -1.000000   -1.000000   -1.000000   -1.000000   \n",
      "25%     -1.000000   -0.649342   -0.829545   -0.545455   -0.659794   -0.804348   \n",
      "50%     -0.500000   -0.468421   -0.777668   -0.465241   -0.541237   -0.695652   \n",
      "75%      0.000000   -0.303289   -0.537055   -0.359626   -0.438144   -0.597826   \n",
      "max      0.000000    0.000000    0.000000    0.000000    0.000000    0.000000   \n",
      "\n",
      "          Phenols  Flavanoids  Nonflavanoids  Proanthocyanins       Color  \\\n",
      "count  178.000000  178.000000     178.000000       178.000000  178.000000   \n",
      "mean    -0.546513   -0.643614      -0.562540        -0.627477   -0.677637   \n",
      "std      0.215811    0.210730       0.234818         0.180555    0.197806   \n",
      "min     -1.000000   -1.000000      -1.000000        -1.000000   -1.000000   \n",
      "25%     -0.737069   -0.817511      -0.735849        -0.735016   -0.834471   \n",
      "50%     -0.525862   -0.621308      -0.603774        -0.638801   -0.709044   \n",
      "75%     -0.372414   -0.465190      -0.419811        -0.514196   -0.580205   \n",
      "max      0.000000    0.000000       0.000000         0.000000    0.000000   \n",
      "\n",
      "              Hue    Dilution     Proline  \n",
      "count  178.000000  178.000000  178.000000  \n",
      "mean    -0.611830   -0.508540   -0.665554  \n",
      "std      0.185831    0.260070    0.224613  \n",
      "min     -1.000000   -1.000000   -1.000000  \n",
      "25%     -0.754065   -0.755495   -0.841298  \n",
      "50%     -0.605691   -0.446886   -0.717903  \n",
      "75%     -0.479675   -0.304029   -0.495720  \n",
      "max      0.000000    0.000000    0.000000  \n"
     ]
    }
   ],
   "source": [
    "                                                          \n",
    "wdp = pd.read_csv(\"wine.csv\")\n",
    "wdp.drop([\"Type\"] , axis =1 ,inplace = True)\n",
    "\n",
    "norm_wdp = norm_func(wd)\n",
    "print(norm_wdp.describe())\n",
    "pca = PCA(n_components = 13)\n",
    "pca_values = pca.fit_transform(norm_wdp)"
   ]
  },
  {
   "cell_type": "code",
   "execution_count": 13,
   "metadata": {},
   "outputs": [
    {
     "data": {
      "text/plain": [
       "array([0.51003634, 0.14853339, 0.06702619, 0.06257153, 0.05009893,\n",
       "       0.03837954, 0.02882988, 0.01963591, 0.01828022, 0.01769633,\n",
       "       0.01483498, 0.01075837, 0.00837412])"
      ]
     },
     "execution_count": 13,
     "metadata": {},
     "output_type": "execute_result"
    }
   ],
   "source": [
    "# The amount of variance that each PCA explains is \n",
    "var = pca.explained_variance_ratio_\n",
    "var\n"
   ]
  },
  {
   "cell_type": "code",
   "execution_count": 14,
   "metadata": {},
   "outputs": [
    {
     "name": "stdout",
     "output_type": "stream",
     "text": [
      "[[ 0.6293282  -0.11538334  0.18694541 -0.00605884  0.14898351 -0.06546653\n",
      "  -0.29907772 -0.32479936  0.23920701 -0.18419798  0.08078851 -0.20189805\n",
      "  -0.37170465 -0.2400427 ]\n",
      " [ 0.01993018 -0.54791647 -0.2344791  -0.16351603  0.07620456 -0.18485315\n",
      "  -0.06219328  0.01015402 -0.02206778 -0.02268177 -0.52014852  0.24253447\n",
      "   0.22768572 -0.43761144]\n",
      " [ 0.03341574 -0.08752348  0.49369469  0.39251169  0.47666736  0.01701346\n",
      "   0.26790425  0.20701857  0.23278396  0.24925826 -0.02422129 -0.1201589\n",
      "   0.30702977 -0.16025723]\n",
      " [-0.29258342  0.06222583 -0.17547483  0.20681556  0.04089069 -0.11406464\n",
      "  -0.10022125 -0.07451451  0.79752561 -0.22126034 -0.08760114  0.27479592\n",
      "  -0.08399171  0.17729834]\n",
      " [ 0.28148105 -0.16228821 -0.66493451  0.23497092  0.28992581  0.27654331\n",
      "   0.20490882  0.12531803  0.0069295   0.25398196  0.27044136  0.11354174\n",
      "  -0.16460973  0.0342759 ]\n",
      " [-0.13118319 -0.04725362  0.07955381  0.37438456  0.29955875  0.48981477\n",
      "  -0.32001877 -0.1577103  -0.34549364 -0.37660733 -0.2591253   0.14038493\n",
      "  -0.02191558  0.16909722]\n",
      " [-0.05736109 -0.32274359  0.27954954 -0.17779217 -0.27887792  0.51044661\n",
      "  -0.06885805 -0.04402893  0.20700736  0.50855601 -0.16142847  0.12197605\n",
      "  -0.27371138  0.14297963]\n",
      " [ 0.26015537  0.61424446  0.06837587 -0.13834036  0.1150809   0.08141568\n",
      "  -0.04262492 -0.08704541 -0.01954717  0.2210299  -0.13800823  0.6172137\n",
      "   0.08015704 -0.21513533]\n",
      " [ 0.13939434 -0.06106949  0.17562062  0.03913096 -0.25314265  0.17945891\n",
      "   0.63655173  0.20456134  0.00452152 -0.49616632 -0.05019937  0.23470843\n",
      "  -0.26979017 -0.15665099]\n",
      " [-0.02911543  0.20627548 -0.20179281 -0.07220888 -0.21061107  0.54488534\n",
      "  -0.01482771 -0.09779996  0.25450768 -0.13158592  0.01976596 -0.37237488\n",
      "   0.40724165 -0.41549728]\n",
      " [ 0.42709531 -0.18139659  0.03469219 -0.16186572 -0.0586336   0.04271612\n",
      "   0.16189373 -0.25116777  0.08453146 -0.13232246  0.02368384  0.12035717\n",
      "   0.55497363  0.56127187]\n",
      " [ 0.03338504  0.26188447 -0.15326934 -0.21400075  0.28058433  0.00192375\n",
      "   0.32971097 -0.11307117  0.04217532  0.06164366 -0.62441196 -0.40184527\n",
      "  -0.22349499  0.23214185]\n",
      " [ 0.2384038   0.0994681  -0.08844637  0.66590514 -0.53388763 -0.17217783\n",
      "  -0.00746905 -0.09503608 -0.06964277  0.20502511 -0.32126314 -0.07951484\n",
      "   0.04006001  0.01502115]]\n"
     ]
    },
    {
     "data": {
      "text/plain": [
       "array([51.  , 65.85, 72.55, 78.81, 83.82, 87.66, 90.54, 92.5 , 94.33,\n",
       "       96.1 , 97.58, 98.66, 99.5 ])"
      ]
     },
     "execution_count": 14,
     "metadata": {},
     "output_type": "execute_result"
    }
   ],
   "source": [
    "print(pca.components_)\n",
    "\n",
    "# Cumulative variance \n",
    "\n",
    "var1 = np.cumsum(np.round(var, decimals = 4) * 100)\n",
    "var1"
   ]
  },
  {
   "cell_type": "code",
   "execution_count": 15,
   "metadata": {},
   "outputs": [
    {
     "data": {
      "text/plain": [
       "[<matplotlib.lines.Line2D at 0x1e77659c760>]"
      ]
     },
     "execution_count": 15,
     "metadata": {},
     "output_type": "execute_result"
    },
    {
     "data": {
      "image/png": "[encoded data removed]",
      "text/plain": [
       "<Figure size 432x288 with 1 Axes>"
      ]
     },
     "metadata": {
      "needs_background": "light"
     },
     "output_type": "display_data"
    }
   ],
   "source": [
    "# Variance plot for PCA components obtained \n",
    "plt.plot(var1, color = \"red\")"
   ]
  },
  {
   "cell_type": "code",
   "execution_count": 26,
   "metadata": {},
   "outputs": [
    {
     "name": "stdout",
     "output_type": "stream",
     "text": [
      "[[-0.84760416 -0.24314632  0.02975173 ...  0.08950002 -0.04750287\n",
      "   0.04539759]\n",
      " [-0.6786508  -0.00571174 -0.28396974 ...  0.09822276 -0.07880283\n",
      "   0.05536931]\n",
      " [-0.70037223 -0.18386807  0.19745712 ... -0.03025584 -0.03573774\n",
      "   0.07481563]\n",
      " ...\n",
      " [ 0.82065832 -0.55246914 -0.02074951 ...  0.09275238 -0.10336217\n",
      "  -0.11764654]\n",
      " [ 0.77726837 -0.4302553  -0.09551105 ...  0.10501336 -0.01389598\n",
      "  -0.03257465]\n",
      " [ 0.8758746  -0.52183358  0.28745683 ... -0.07514722  0.02991871\n",
      "   0.00410332]]\n"
     ]
    },
    {
     "data": {
      "text/html": [
       "<div>\n",
       "<style scoped>\n",
       "    .dataframe tbody tr th:only-of-type {\n",
       "        vertical-align: middle;\n",
       "    }\n",
       "\n",
       "    .dataframe tbody tr th {\n",
       "        vertical-align: top;\n",
       "    }\n",
       "\n",
       "    .dataframe thead th {\n",
       "        text-align: right;\n",
       "    }\n",
       "</style>\n",
       "<table border=\"1\" class=\"dataframe\">\n",
       "  <thead>\n",
       "    <tr style=\"text-align: right;\">\n",
       "      <th></th>\n",
       "      <th>comp0</th>\n",
       "      <th>comp1</th>\n",
       "      <th>comp2</th>\n",
       "      <th>comp3</th>\n",
       "      <th>comp4</th>\n",
       "      <th>comp5</th>\n",
       "      <th>comp6</th>\n",
       "      <th>comp7</th>\n",
       "      <th>comp8</th>\n",
       "      <th>comp9</th>\n",
       "      <th>comp10</th>\n",
       "      <th>comp11</th>\n",
       "      <th>comp12</th>\n",
       "    </tr>\n",
       "  </thead>\n",
       "  <tbody>\n",
       "    <tr>\n",
       "      <th>0</th>\n",
       "      <td>-0.847604</td>\n",
       "      <td>-0.243146</td>\n",
       "      <td>0.029752</td>\n",
       "      <td>-0.047430</td>\n",
       "      <td>-0.002728</td>\n",
       "      <td>0.038810</td>\n",
       "      <td>0.049146</td>\n",
       "      <td>0.114127</td>\n",
       "      <td>-0.107955</td>\n",
       "      <td>0.291353</td>\n",
       "      <td>0.089500</td>\n",
       "      <td>-0.047503</td>\n",
       "      <td>0.045398</td>\n",
       "    </tr>\n",
       "    <tr>\n",
       "      <th>1</th>\n",
       "      <td>-0.678651</td>\n",
       "      <td>-0.005712</td>\n",
       "      <td>-0.283970</td>\n",
       "      <td>0.001458</td>\n",
       "      <td>-0.248171</td>\n",
       "      <td>-0.026104</td>\n",
       "      <td>-0.013032</td>\n",
       "      <td>-0.135043</td>\n",
       "      <td>0.082117</td>\n",
       "      <td>0.092704</td>\n",
       "      <td>0.098223</td>\n",
       "      <td>-0.078803</td>\n",
       "      <td>0.055369</td>\n",
       "    </tr>\n",
       "    <tr>\n",
       "      <th>2</th>\n",
       "      <td>-0.700372</td>\n",
       "      <td>-0.183868</td>\n",
       "      <td>0.197457</td>\n",
       "      <td>0.004297</td>\n",
       "      <td>0.049228</td>\n",
       "      <td>-0.044054</td>\n",
       "      <td>0.141187</td>\n",
       "      <td>-0.086726</td>\n",
       "      <td>-0.167860</td>\n",
       "      <td>-0.148520</td>\n",
       "      <td>-0.030256</td>\n",
       "      <td>-0.035738</td>\n",
       "      <td>0.074816</td>\n",
       "    </tr>\n",
       "    <tr>\n",
       "      <th>3</th>\n",
       "      <td>-0.936076</td>\n",
       "      <td>-0.566967</td>\n",
       "      <td>0.093919</td>\n",
       "      <td>-0.110809</td>\n",
       "      <td>0.092336</td>\n",
       "      <td>-0.106658</td>\n",
       "      <td>-0.071420</td>\n",
       "      <td>-0.093214</td>\n",
       "      <td>0.079009</td>\n",
       "      <td>0.026887</td>\n",
       "      <td>0.159666</td>\n",
       "      <td>0.118646</td>\n",
       "      <td>-0.000236</td>\n",
       "    </tr>\n",
       "    <tr>\n",
       "      <th>4</th>\n",
       "      <td>-0.454077</td>\n",
       "      <td>-0.063348</td>\n",
       "      <td>0.286092</td>\n",
       "      <td>0.179782</td>\n",
       "      <td>0.008012</td>\n",
       "      <td>0.182285</td>\n",
       "      <td>0.067237</td>\n",
       "      <td>-0.035410</td>\n",
       "      <td>0.058584</td>\n",
       "      <td>0.101458</td>\n",
       "      <td>-0.195057</td>\n",
       "      <td>-0.009654</td>\n",
       "      <td>0.009707</td>\n",
       "    </tr>\n",
       "    <tr>\n",
       "      <th>...</th>\n",
       "      <td>...</td>\n",
       "      <td>...</td>\n",
       "      <td>...</td>\n",
       "      <td>...</td>\n",
       "      <td>...</td>\n",
       "      <td>...</td>\n",
       "      <td>...</td>\n",
       "      <td>...</td>\n",
       "      <td>...</td>\n",
       "      <td>...</td>\n",
       "      <td>...</td>\n",
       "      <td>...</td>\n",
       "      <td>...</td>\n",
       "    </tr>\n",
       "    <tr>\n",
       "      <th>173</th>\n",
       "      <td>0.898916</td>\n",
       "      <td>-0.482112</td>\n",
       "      <td>0.203259</td>\n",
       "      <td>0.012476</td>\n",
       "      <td>-0.342452</td>\n",
       "      <td>-0.032776</td>\n",
       "      <td>0.066883</td>\n",
       "      <td>0.070463</td>\n",
       "      <td>0.060195</td>\n",
       "      <td>-0.048335</td>\n",
       "      <td>0.085700</td>\n",
       "      <td>-0.029515</td>\n",
       "      <td>0.008320</td>\n",
       "    </tr>\n",
       "    <tr>\n",
       "      <th>174</th>\n",
       "      <td>0.785427</td>\n",
       "      <td>-0.353231</td>\n",
       "      <td>0.088418</td>\n",
       "      <td>-0.075360</td>\n",
       "      <td>0.008066</td>\n",
       "      <td>0.043131</td>\n",
       "      <td>0.044505</td>\n",
       "      <td>0.067033</td>\n",
       "      <td>-0.006887</td>\n",
       "      <td>-0.092515</td>\n",
       "      <td>0.024457</td>\n",
       "      <td>0.062745</td>\n",
       "      <td>-0.004699</td>\n",
       "    </tr>\n",
       "    <tr>\n",
       "      <th>175</th>\n",
       "      <td>0.820658</td>\n",
       "      <td>-0.552469</td>\n",
       "      <td>-0.020750</td>\n",
       "      <td>-0.166405</td>\n",
       "      <td>-0.015765</td>\n",
       "      <td>0.021907</td>\n",
       "      <td>0.193634</td>\n",
       "      <td>-0.036957</td>\n",
       "      <td>-0.004505</td>\n",
       "      <td>0.051149</td>\n",
       "      <td>0.092752</td>\n",
       "      <td>-0.103362</td>\n",
       "      <td>-0.117647</td>\n",
       "    </tr>\n",
       "    <tr>\n",
       "      <th>176</th>\n",
       "      <td>0.777268</td>\n",
       "      <td>-0.430255</td>\n",
       "      <td>-0.095511</td>\n",
       "      <td>0.051361</td>\n",
       "      <td>0.215166</td>\n",
       "      <td>-0.044780</td>\n",
       "      <td>0.161557</td>\n",
       "      <td>-0.064202</td>\n",
       "      <td>-0.063602</td>\n",
       "      <td>0.155148</td>\n",
       "      <td>0.105013</td>\n",
       "      <td>-0.013896</td>\n",
       "      <td>-0.032575</td>\n",
       "    </tr>\n",
       "    <tr>\n",
       "      <th>177</th>\n",
       "      <td>0.875875</td>\n",
       "      <td>-0.521834</td>\n",
       "      <td>0.287457</td>\n",
       "      <td>0.100805</td>\n",
       "      <td>0.032272</td>\n",
       "      <td>-0.100743</td>\n",
       "      <td>-0.109933</td>\n",
       "      <td>0.121912</td>\n",
       "      <td>0.019911</td>\n",
       "      <td>0.033834</td>\n",
       "      <td>-0.075147</td>\n",
       "      <td>0.029919</td>\n",
       "      <td>0.004103</td>\n",
       "    </tr>\n",
       "  </tbody>\n",
       "</table>\n",
       "<p>178 rows × 13 columns</p>\n",
       "</div>"
      ],
      "text/plain": [
       "        comp0     comp1     comp2     comp3     comp4     comp5     comp6  \\\n",
       "0   -0.847604 -0.243146  0.029752 -0.047430 -0.002728  0.038810  0.049146   \n",
       "1   -0.678651 -0.005712 -0.283970  0.001458 -0.248171 -0.026104 -0.013032   \n",
       "2   -0.700372 -0.183868  0.197457  0.004297  0.049228 -0.044054  0.141187   \n",
       "3   -0.936076 -0.566967  0.093919 -0.110809  0.092336 -0.106658 -0.071420   \n",
       "4   -0.454077 -0.063348  0.286092  0.179782  0.008012  0.182285  0.067237   \n",
       "..        ...       ...       ...       ...       ...       ...       ...   \n",
       "173  0.898916 -0.482112  0.203259  0.012476 -0.342452 -0.032776  0.066883   \n",
       "174  0.785427 -0.353231  0.088418 -0.075360  0.008066  0.043131  0.044505   \n",
       "175  0.820658 -0.552469 -0.020750 -0.166405 -0.015765  0.021907  0.193634   \n",
       "176  0.777268 -0.430255 -0.095511  0.051361  0.215166 -0.044780  0.161557   \n",
       "177  0.875875 -0.521834  0.287457  0.100805  0.032272 -0.100743 -0.109933   \n",
       "\n",
       "        comp7     comp8     comp9    comp10    comp11    comp12  \n",
       "0    0.114127 -0.107955  0.291353  0.089500 -0.047503  0.045398  \n",
       "1   -0.135043  0.082117  0.092704  0.098223 -0.078803  0.055369  \n",
       "2   -0.086726 -0.167860 -0.148520 -0.030256 -0.035738  0.074816  \n",
       "3   -0.093214  0.079009  0.026887  0.159666  0.118646 -0.000236  \n",
       "4   -0.035410  0.058584  0.101458 -0.195057 -0.009654  0.009707  \n",
       "..        ...       ...       ...       ...       ...       ...  \n",
       "173  0.070463  0.060195 -0.048335  0.085700 -0.029515  0.008320  \n",
       "174  0.067033 -0.006887 -0.092515  0.024457  0.062745 -0.004699  \n",
       "175 -0.036957 -0.004505  0.051149  0.092752 -0.103362 -0.117647  \n",
       "176 -0.064202 -0.063602  0.155148  0.105013 -0.013896 -0.032575  \n",
       "177  0.121912  0.019911  0.033834 -0.075147  0.029919  0.004103  \n",
       "\n",
       "[178 rows x 13 columns]"
      ]
     },
     "execution_count": 26,
     "metadata": {},
     "output_type": "execute_result"
    }
   ],
   "source": [
    "#PCA scores\n",
    "print(pca_values)\n",
    "pca_data = pd.DataFrame(pca_values)\n",
    "pca_data.columns = \"comp0\", \"comp1\", \"comp2\", \"comp3\", \"comp4\", \"comp5\" , \"comp6\" ,\"comp7\" ,\"comp8\" ,\"comp9\" ,\"comp10\" ,\"comp11\" , \"comp12\"\n",
    "\n",
    "pca_data"
   ]
  },
  {
   "cell_type": "code",
   "execution_count": 30,
   "metadata": {},
   "outputs": [
    {
     "data": {
      "text/html": [
       "<div>\n",
       "<style scoped>\n",
       "    .dataframe tbody tr th:only-of-type {\n",
       "        vertical-align: middle;\n",
       "    }\n",
       "\n",
       "    .dataframe tbody tr th {\n",
       "        vertical-align: top;\n",
       "    }\n",
       "\n",
       "    .dataframe thead th {\n",
       "        text-align: right;\n",
       "    }\n",
       "</style>\n",
       "<table border=\"1\" class=\"dataframe\">\n",
       "  <thead>\n",
       "    <tr style=\"text-align: right;\">\n",
       "      <th></th>\n",
       "      <th>Type</th>\n",
       "      <th>comp0</th>\n",
       "      <th>comp1</th>\n",
       "      <th>comp2</th>\n",
       "    </tr>\n",
       "  </thead>\n",
       "  <tbody>\n",
       "    <tr>\n",
       "      <th>0</th>\n",
       "      <td>1</td>\n",
       "      <td>-0.847604</td>\n",
       "      <td>-0.243146</td>\n",
       "      <td>0.029752</td>\n",
       "    </tr>\n",
       "    <tr>\n",
       "      <th>1</th>\n",
       "      <td>1</td>\n",
       "      <td>-0.678651</td>\n",
       "      <td>-0.005712</td>\n",
       "      <td>-0.283970</td>\n",
       "    </tr>\n",
       "    <tr>\n",
       "      <th>2</th>\n",
       "      <td>1</td>\n",
       "      <td>-0.700372</td>\n",
       "      <td>-0.183868</td>\n",
       "      <td>0.197457</td>\n",
       "    </tr>\n",
       "    <tr>\n",
       "      <th>3</th>\n",
       "      <td>1</td>\n",
       "      <td>-0.936076</td>\n",
       "      <td>-0.566967</td>\n",
       "      <td>0.093919</td>\n",
       "    </tr>\n",
       "    <tr>\n",
       "      <th>4</th>\n",
       "      <td>1</td>\n",
       "      <td>-0.454077</td>\n",
       "      <td>-0.063348</td>\n",
       "      <td>0.286092</td>\n",
       "    </tr>\n",
       "    <tr>\n",
       "      <th>...</th>\n",
       "      <td>...</td>\n",
       "      <td>...</td>\n",
       "      <td>...</td>\n",
       "      <td>...</td>\n",
       "    </tr>\n",
       "    <tr>\n",
       "      <th>173</th>\n",
       "      <td>3</td>\n",
       "      <td>0.898916</td>\n",
       "      <td>-0.482112</td>\n",
       "      <td>0.203259</td>\n",
       "    </tr>\n",
       "    <tr>\n",
       "      <th>174</th>\n",
       "      <td>3</td>\n",
       "      <td>0.785427</td>\n",
       "      <td>-0.353231</td>\n",
       "      <td>0.088418</td>\n",
       "    </tr>\n",
       "    <tr>\n",
       "      <th>175</th>\n",
       "      <td>3</td>\n",
       "      <td>0.820658</td>\n",
       "      <td>-0.552469</td>\n",
       "      <td>-0.020750</td>\n",
       "    </tr>\n",
       "    <tr>\n",
       "      <th>176</th>\n",
       "      <td>3</td>\n",
       "      <td>0.777268</td>\n",
       "      <td>-0.430255</td>\n",
       "      <td>-0.095511</td>\n",
       "    </tr>\n",
       "    <tr>\n",
       "      <th>177</th>\n",
       "      <td>3</td>\n",
       "      <td>0.875875</td>\n",
       "      <td>-0.521834</td>\n",
       "      <td>0.287457</td>\n",
       "    </tr>\n",
       "  </tbody>\n",
       "</table>\n",
       "<p>178 rows × 4 columns</p>\n",
       "</div>"
      ],
      "text/plain": [
       "     Type     comp0     comp1     comp2\n",
       "0       1 -0.847604 -0.243146  0.029752\n",
       "1       1 -0.678651 -0.005712 -0.283970\n",
       "2       1 -0.700372 -0.183868  0.197457\n",
       "3       1 -0.936076 -0.566967  0.093919\n",
       "4       1 -0.454077 -0.063348  0.286092\n",
       "..    ...       ...       ...       ...\n",
       "173     3  0.898916 -0.482112  0.203259\n",
       "174     3  0.785427 -0.353231  0.088418\n",
       "175     3  0.820658 -0.552469 -0.020750\n",
       "176     3  0.777268 -0.430255 -0.095511\n",
       "177     3  0.875875 -0.521834  0.287457\n",
       "\n",
       "[178 rows x 4 columns]"
      ]
     },
     "execution_count": 30,
     "metadata": {},
     "output_type": "execute_result"
    }
   ],
   "source": [
    "wine = pd.concat([wd.Type, pca_data.iloc[:, 0:3]], axis = 1)\n",
    "wine"
   ]
  },
  {
   "cell_type": "markdown",
   "metadata": {},
   "source": [
    "                                               Clustering after PCA"
   ]
  },
  {
   "cell_type": "code",
   "execution_count": 33,
   "metadata": {},
   "outputs": [
    {
     "data": {
      "image/png": "[encoded data removed]",
      "text/plain": [
       "<Figure size 2160x864 with 1 Axes>"
      ]
     },
     "metadata": {
      "needs_background": "light"
     },
     "output_type": "display_data"
    }
   ],
   "source": [
    "#Now we'll do h_clust on this data.\n",
    "pbc =pca_data.iloc[:, 0:3]\n",
    "z = linkage(pbc, method = \"complete\", metric = \"euclidean\")\n",
    "plt.figure(figsize=(30, 12));plt.title('Dendrogram');plt.xlabel('Index');plt.ylabel('Distance')\n",
    "sch.dendrogram(z, \n",
    "    leaf_rotation = 5,  # rotates the x axis labels\n",
    "    leaf_font_size = 10 # font size for the x axis labels\n",
    ")\n",
    "plt.show()"
   ]
  },
  {
   "cell_type": "code",
   "execution_count": 34,
   "metadata": {},
   "outputs": [],
   "source": [
    "wd_comp1 = AgglomerativeClustering(n_clusters = 3 , linkage = \"complete\" ,affinity = \"euclidean\" ).fit(pbc)\n",
    "wd_cluster_column1 = pd.Series(wd_comp1.labels_)\n",
    "\n",
    "#now assign this matrix to to data set as a new column.\n",
    "\n",
    "wdp['grouping']=wd_cluster_column1\n",
    "\n",
    "#now take the grouping column to the 1st.\n",
    "\n",
    "wd_hp = wdp.iloc[ : ,[13,0,1,2,3,4,6,7,8,9,10,11,12] ]\n"
   ]
  },
  {
   "cell_type": "code",
   "execution_count": 35,
   "metadata": {},
   "outputs": [
    {
     "data": {
      "text/plain": [
       "[88.65301547493794,\n",
       " 41.41801433099742,\n",
       " 16.73413521732908,\n",
       " 13.597234879534833,\n",
       " 11.894850646717067,\n",
       " 10.589040780281232,\n",
       " 9.27622671906259,\n",
       " 8.33703271447526,\n",
       " 7.819348976090864]"
      ]
     },
     "execution_count": 35,
     "metadata": {},
     "output_type": "execute_result"
    }
   ],
   "source": [
    "#Now we'll do kmeans on this.\n",
    "\n",
    "###### scree plot or elbow curve ############\n",
    "TWSS1 = []\n",
    "k = list(range(1,10))\n",
    "\n",
    "for i in k:\n",
    "    kmeans = KMeans(n_clusters = i)\n",
    "    kmeans.fit(pbc)\n",
    "    TWSS1.append(kmeans.inertia_)\n",
    "    \n",
    "TWSS1"
   ]
  },
  {
   "cell_type": "code",
   "execution_count": 36,
   "metadata": {},
   "outputs": [
    {
     "data": {
      "text/plain": [
       "Text(0, 0.5, 'total_within_SS')"
      ]
     },
     "execution_count": 36,
     "metadata": {},
     "output_type": "execute_result"
    },
    {
     "data": {
      "image/png": "[encoded data removed]",
      "text/plain": [
       "<Figure size 432x288 with 1 Axes>"
      ]
     },
     "metadata": {
      "needs_background": "light"
     },
     "output_type": "display_data"
    }
   ],
   "source": [
    "# Scree plot \n",
    "plt.plot(k, TWSS1, 'ro-');plt.xlabel(\"No_of_Clusters\");plt.ylabel(\"total_within_SS\")"
   ]
  },
  {
   "cell_type": "code",
   "execution_count": 37,
   "metadata": {},
   "outputs": [
    {
     "data": {
      "text/plain": [
       "KMeans(n_clusters=3)"
      ]
     },
     "execution_count": 37,
     "metadata": {},
     "output_type": "execute_result"
    }
   ],
   "source": [
    "\n",
    "# Selecting 3 clusters from the above scree plot which is the optimum number of clusters \n",
    "model = KMeans(n_clusters = 3)\n",
    "model.fit(pbc)"
   ]
  },
  {
   "cell_type": "code",
   "execution_count": 40,
   "metadata": {},
   "outputs": [],
   "source": [
    "mb1 = pd.Series(model.labels_)  # converting numpy array into pandas series object  \n",
    "wdp['category'] = mb1 # creating a  new column and assigning it to new column \n",
    "wd_kp = wdp.iloc[:,[14,0,1,2,3,4,5,6,7,8,9,10,11,12]]"
   ]
  },
  {
   "cell_type": "markdown",
   "metadata": {},
   "source": [
    "                                        h-clust comparision\n",
    "                                       "
   ]
  },
  {
   "cell_type": "code",
   "execution_count": 41,
   "metadata": {},
   "outputs": [
    {
     "name": "stdout",
     "output_type": "stream",
     "text": [
      "     grouping  Alcohol  Malic   Ash  Alcalinity  Magnesium  Flavanoids  \\\n",
      "0           1    14.23   1.71  2.43        15.6        127        3.06   \n",
      "1           1    13.20   1.78  2.14        11.2        100        2.76   \n",
      "2           1    13.16   2.36  2.67        18.6        101        3.24   \n",
      "3           1    14.37   1.95  2.50        16.8        113        3.49   \n",
      "4           1    13.24   2.59  2.87        21.0        118        2.69   \n",
      "..        ...      ...    ...   ...         ...        ...         ...   \n",
      "173         2    13.71   5.65  2.45        20.5         95        0.61   \n",
      "174         2    13.40   3.91  2.48        23.0        102        0.75   \n",
      "175         2    13.27   4.28  2.26        20.0        120        0.69   \n",
      "176         2    13.17   2.59  2.37        20.0        120        0.68   \n",
      "177         2    14.13   4.10  2.74        24.5         96        0.76   \n",
      "\n",
      "     Nonflavanoids  Proanthocyanins  Color   Hue  Dilution  Proline  \n",
      "0             0.28             2.29   5.64  1.04      3.92     1065  \n",
      "1             0.26             1.28   4.38  1.05      3.40     1050  \n",
      "2             0.30             2.81   5.68  1.03      3.17     1185  \n",
      "3             0.24             2.18   7.80  0.86      3.45     1480  \n",
      "4             0.39             1.82   4.32  1.04      2.93      735  \n",
      "..             ...              ...    ...   ...       ...      ...  \n",
      "173           0.52             1.06   7.70  0.64      1.74      740  \n",
      "174           0.43             1.41   7.30  0.70      1.56      750  \n",
      "175           0.43             1.35  10.20  0.59      1.56      835  \n",
      "176           0.53             1.46   9.30  0.60      1.62      840  \n",
      "177           0.56             1.35   9.20  0.61      1.60      560  \n",
      "\n",
      "[178 rows x 13 columns]\n",
      "     grouping  Alcohol  Malic   Ash  Alcalinity  Magnesium  Flavanoids  \\\n",
      "0           2    14.23   1.71  2.43        15.6        127        3.06   \n",
      "1           2    13.20   1.78  2.14        11.2        100        2.76   \n",
      "2           2    13.16   2.36  2.67        18.6        101        3.24   \n",
      "3           2    14.37   1.95  2.50        16.8        113        3.49   \n",
      "4           1    13.24   2.59  2.87        21.0        118        2.69   \n",
      "..        ...      ...    ...   ...         ...        ...         ...   \n",
      "173         0    13.71   5.65  2.45        20.5         95        0.61   \n",
      "174         0    13.40   3.91  2.48        23.0        102        0.75   \n",
      "175         0    13.27   4.28  2.26        20.0        120        0.69   \n",
      "176         0    13.17   2.59  2.37        20.0        120        0.68   \n",
      "177         0    14.13   4.10  2.74        24.5         96        0.76   \n",
      "\n",
      "     Nonflavanoids  Proanthocyanins  Color   Hue  Dilution  Proline  \n",
      "0             0.28             2.29   5.64  1.04      3.92     1065  \n",
      "1             0.26             1.28   4.38  1.05      3.40     1050  \n",
      "2             0.30             2.81   5.68  1.03      3.17     1185  \n",
      "3             0.24             2.18   7.80  0.86      3.45     1480  \n",
      "4             0.39             1.82   4.32  1.04      2.93      735  \n",
      "..             ...              ...    ...   ...       ...      ...  \n",
      "173           0.52             1.06   7.70  0.64      1.74      740  \n",
      "174           0.43             1.41   7.30  0.70      1.56      750  \n",
      "175           0.43             1.35  10.20  0.59      1.56      835  \n",
      "176           0.53             1.46   9.30  0.60      1.62      840  \n",
      "177           0.56             1.35   9.20  0.61      1.60      560  \n",
      "\n",
      "[178 rows x 13 columns]\n"
     ]
    }
   ],
   "source": [
    "print(wd_h)\n",
    "print(wd_hp)"
   ]
  },
  {
   "cell_type": "markdown",
   "metadata": {},
   "source": [
    "   Clearly we can see both clusters are not same"
   ]
  },
  {
   "cell_type": "markdown",
   "metadata": {},
   "source": [
    "                                   K_means Comparision\n",
    "                                   "
   ]
  },
  {
   "cell_type": "code",
   "execution_count": 42,
   "metadata": {},
   "outputs": [
    {
     "name": "stdout",
     "output_type": "stream",
     "text": [
      "     category  Alcohol  Malic   Ash  Alcalinity  Magnesium  Phenols  \\\n",
      "0           0    14.23   1.71  2.43        15.6        127     2.80   \n",
      "1           0    13.20   1.78  2.14        11.2        100     2.65   \n",
      "2           0    13.16   2.36  2.67        18.6        101     2.80   \n",
      "3           0    14.37   1.95  2.50        16.8        113     3.85   \n",
      "4           0    13.24   2.59  2.87        21.0        118     2.80   \n",
      "..        ...      ...    ...   ...         ...        ...      ...   \n",
      "173         2    13.71   5.65  2.45        20.5         95     1.68   \n",
      "174         2    13.40   3.91  2.48        23.0        102     1.80   \n",
      "175         2    13.27   4.28  2.26        20.0        120     1.59   \n",
      "176         2    13.17   2.59  2.37        20.0        120     1.65   \n",
      "177         2    14.13   4.10  2.74        24.5         96     2.05   \n",
      "\n",
      "     Flavanoids  Nonflavanoids  Proanthocyanins  Color   Hue  Dilution  \\\n",
      "0          3.06           0.28             2.29   5.64  1.04      3.92   \n",
      "1          2.76           0.26             1.28   4.38  1.05      3.40   \n",
      "2          3.24           0.30             2.81   5.68  1.03      3.17   \n",
      "3          3.49           0.24             2.18   7.80  0.86      3.45   \n",
      "4          2.69           0.39             1.82   4.32  1.04      2.93   \n",
      "..          ...            ...              ...    ...   ...       ...   \n",
      "173        0.61           0.52             1.06   7.70  0.64      1.74   \n",
      "174        0.75           0.43             1.41   7.30  0.70      1.56   \n",
      "175        0.69           0.43             1.35  10.20  0.59      1.56   \n",
      "176        0.68           0.53             1.46   9.30  0.60      1.62   \n",
      "177        0.76           0.56             1.35   9.20  0.61      1.60   \n",
      "\n",
      "     Proline  \n",
      "0       1065  \n",
      "1       1050  \n",
      "2       1185  \n",
      "3       1480  \n",
      "4        735  \n",
      "..       ...  \n",
      "173      740  \n",
      "174      750  \n",
      "175      835  \n",
      "176      840  \n",
      "177      560  \n",
      "\n",
      "[178 rows x 14 columns]\n",
      "     category  Alcohol  Malic   Ash  Alcalinity  Magnesium  Phenols  \\\n",
      "0           0    14.23   1.71  2.43        15.6        127     2.80   \n",
      "1           0    13.20   1.78  2.14        11.2        100     2.65   \n",
      "2           0    13.16   2.36  2.67        18.6        101     2.80   \n",
      "3           0    14.37   1.95  2.50        16.8        113     3.85   \n",
      "4           0    13.24   2.59  2.87        21.0        118     2.80   \n",
      "..        ...      ...    ...   ...         ...        ...      ...   \n",
      "173         2    13.71   5.65  2.45        20.5         95     1.68   \n",
      "174         2    13.40   3.91  2.48        23.0        102     1.80   \n",
      "175         2    13.27   4.28  2.26        20.0        120     1.59   \n",
      "176         2    13.17   2.59  2.37        20.0        120     1.65   \n",
      "177         2    14.13   4.10  2.74        24.5         96     2.05   \n",
      "\n",
      "     Flavanoids  Nonflavanoids  Proanthocyanins  Color   Hue  Dilution  \\\n",
      "0          3.06           0.28             2.29   5.64  1.04      3.92   \n",
      "1          2.76           0.26             1.28   4.38  1.05      3.40   \n",
      "2          3.24           0.30             2.81   5.68  1.03      3.17   \n",
      "3          3.49           0.24             2.18   7.80  0.86      3.45   \n",
      "4          2.69           0.39             1.82   4.32  1.04      2.93   \n",
      "..          ...            ...              ...    ...   ...       ...   \n",
      "173        0.61           0.52             1.06   7.70  0.64      1.74   \n",
      "174        0.75           0.43             1.41   7.30  0.70      1.56   \n",
      "175        0.69           0.43             1.35  10.20  0.59      1.56   \n",
      "176        0.68           0.53             1.46   9.30  0.60      1.62   \n",
      "177        0.76           0.56             1.35   9.20  0.61      1.60   \n",
      "\n",
      "     Proline  \n",
      "0       1065  \n",
      "1       1050  \n",
      "2       1185  \n",
      "3       1480  \n",
      "4        735  \n",
      "..       ...  \n",
      "173      740  \n",
      "174      750  \n",
      "175      835  \n",
      "176      840  \n",
      "177      560  \n",
      "\n",
      "[178 rows x 14 columns]\n"
     ]
    }
   ],
   "source": [
    "print(wd_k)\n",
    "print(wd_kp)"
   ]
  },
  {
   "cell_type": "markdown",
   "metadata": {},
   "source": [
    "Here is also not the clusters are same"
   ]
  }
 ],
 "metadata": {
  "kernelspec": {
   "display_name": "Python 3",
   "language": "python",
   "name": "python3"
  },
  "language_info": {
   "codemirror_mode": {
    "name": "ipython",
    "version": 3
   },
   "file_extension": ".py",
   "mimetype": "text/x-python",
   "name": "python",
   "nbconvert_exporter": "python",
   "pygments_lexer": "ipython3",
   "version": "3.8.5"
  }
 },
 "nbformat": 4,
 "nbformat_minor": 4
}
